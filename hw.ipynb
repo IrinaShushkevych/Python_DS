{
 "cells": [
  {
   "cell_type": "code",
   "execution_count": 12,
   "id": "780af77d",
   "metadata": {},
   "outputs": [
    {
     "name": "stdout",
     "output_type": "stream",
     "text": [
      "[ 1  2  3  4  5  6  7  8  9 10]\n"
     ]
    }
   ],
   "source": [
    "import numpy as np\n",
    "\n",
    "#Створіть одновимірний масив (вектор) з першими 10-ма натуральними числами та виведіть його значення.\n",
    "natural_array = np.arange(1, 11, 1)\n",
    "print(natural_array)"
   ]
  },
  {
   "cell_type": "code",
   "execution_count": 13,
   "id": "d030cfd4",
   "metadata": {},
   "outputs": [
    {
     "name": "stdout",
     "output_type": "stream",
     "text": [
      "[[0 0 0]\n",
      " [0 0 0]\n",
      " [0 0 0]]\n"
     ]
    }
   ],
   "source": [
    "#Створіть двовимірний масив (матрицю) розміром 3x3, заповніть його нулями та виведіть його значення.\n",
    "zero_array = np.zeros((3, 3), dtype=int)\n",
    "print(zero_array)"
   ]
  },
  {
   "cell_type": "code",
   "execution_count": 21,
   "id": "1b76cf33",
   "metadata": {},
   "outputs": [
    {
     "name": "stdout",
     "output_type": "stream",
     "text": [
      "[[ 7  1 10  4  4]\n",
      " [10  4  6  6  9]\n",
      " [ 9 10  8  4 10]\n",
      " [ 2  2  2  7  7]\n",
      " [ 4  5  2 10 10]]\n"
     ]
    }
   ],
   "source": [
    "# Створіть масив розміром 5x5, заповніть його випадковими цілими числами в діапазоні від 1 до 10 та виведіть його значення.\n",
    "random_array = np.random.randint(1, 11, (5, 5))\n",
    "print(random_array)"
   ]
  },
  {
   "cell_type": "code",
   "execution_count": 22,
   "id": "b41b0387",
   "metadata": {},
   "outputs": [
    {
     "name": "stdout",
     "output_type": "stream",
     "text": [
      "[[0.30691275 0.50504723 0.16593803 0.68081544]\n",
      " [0.79469503 0.61407359 0.85603731 0.70170908]\n",
      " [0.80495918 0.5379668  0.95646405 0.63000013]\n",
      " [0.29584143 0.97249911 0.83162655 0.77153841]]\n"
     ]
    }
   ],
   "source": [
    "#Створіть масив розміром 4x4, заповніть його випадковими дійсними числами в діапазоні від 0 до 1 та виведіть його значення.\n",
    "random_d_array = np.random.random((4, 4))\n",
    "print(random_d_array)"
   ]
  },
  {
   "cell_type": "code",
   "execution_count": 26,
   "id": "fd3778d3",
   "metadata": {},
   "outputs": [
    {
     "name": "stdout",
     "output_type": "stream",
     "text": [
      "1:  [ 6  3  5 10  6]\n",
      "2:  [ 6  8  4 10  8]\n",
      "Sum:  [12 11  9 20 14]\n",
      "Difference:  [ 0 -5  1  0 -2]\n",
      "Multiple:  [ 36  24  20 100  48]\n",
      "Divide [1.    0.375 1.25  1.    0.75 ]\n"
     ]
    }
   ],
   "source": [
    "#Створіть два одновимірних масиви розміром 5, заповніть їх випадковими цілими числами в діапазоні від 1 до 10 та виконайте на них поелементні операції додавання, віднімання та множення.\n",
    "arr_1 = np.random.randint(1, 11, 5)\n",
    "arr_2 = np.random.randint(1, 11, 5)\n",
    "suma = arr_1 + arr_2\n",
    "diff = arr_1 - arr_2\n",
    "mult = arr_1 * arr_2\n",
    "div = arr_1 / arr_2\n",
    "print('Array 1: ', arr_1)\n",
    "print('Array 2: ', arr_2)\n",
    "print('Sum: ', suma)\n",
    "print('Difference: ', diff)\n",
    "print('Multiple: ', mult)\n",
    "print('Divide', div)"
   ]
  },
  {
   "cell_type": "code",
   "execution_count": 29,
   "id": "534685b6",
   "metadata": {},
   "outputs": [
    {
     "name": "stdout",
     "output_type": "stream",
     "text": [
      "Vector 1:  [ 5 10  6  2  7  3  3]\n",
      "Vector 2:  [2 3 6 2 2 8 2]\n",
      "Scalar product:  124\n"
     ]
    }
   ],
   "source": [
    "#Створіть два вектори розміром 7, заповніть довільними числами та знайдіть їх скалярний добуток.\n",
    "v_1 = np.random.randint(1, 11, 7)\n",
    "v_2 = np.random.randint(1, 11, 7)\n",
    "scalar = np.dot(v_1, v_2)\n",
    "\n",
    "print('Vector 1: ', v_1)\n",
    "print('Vector 2: ', v_2)\n",
    "print('Scalar product: ', scalar)"
   ]
  },
  {
   "cell_type": "code",
   "execution_count": 35,
   "id": "e6d0b572",
   "metadata": {},
   "outputs": [
    {
     "name": "stdout",
     "output_type": "stream",
     "text": [
      "Array 1: \n",
      "[[4 1]\n",
      " [9 6]]\n",
      "Array 2: \n",
      "[[2 3 9]\n",
      " [6 4 6]]\n",
      "Result: \n",
      "[[ 14  16  42]\n",
      " [ 54  51 117]]\n"
     ]
    }
   ],
   "source": [
    "#Створіть дві матриці розміром 2x2 та 2x3, заповніть їх випадковими цілими числами в діапазоні від 1 до 10 та перемножте їх між собою.\n",
    "arr_1 = np.random.randint(1, 11, (2, 2))\n",
    "arr_2 = np.random.randint(1, 11, (2, 3))\n",
    "mult = np.dot(arr_1, arr_2)\n",
    "print('Array 1: ')\n",
    "print( arr_1)\n",
    "print('Array 2: ')\n",
    "print(arr_2)\n",
    "print('Result: ')\n",
    "print(mult)"
   ]
  },
  {
   "cell_type": "code",
   "execution_count": 43,
   "id": "7531c0fd",
   "metadata": {},
   "outputs": [
    {
     "name": "stdout",
     "output_type": "stream",
     "text": [
      "Array: \n",
      "[[6 2 5]\n",
      " [7 5 8]\n",
      " [5 8 6]]\n",
      "Invert array: \n",
      "[[ 0.64150943 -0.52830189  0.16981132]\n",
      " [ 0.03773585 -0.20754717  0.24528302]\n",
      " [-0.58490566  0.71698113 -0.30188679]]\n"
     ]
    }
   ],
   "source": [
    "#Створіть матрицю розміром 3x3, заповніть її випадковими цілими числами в діапазоні від 1 до 10 та знайдіть її обернену матрицю.\n",
    "arr = np.random.randint(1, 11, (3, 3))\n",
    "arr_rev = np.linalg.inv(arr)\n",
    "print('Array: ')\n",
    "print(arr)\n",
    "print('Invert array: ')\n",
    "print(arr_rev)"
   ]
  },
  {
   "cell_type": "code",
   "execution_count": 45,
   "id": "1a62e1aa",
   "metadata": {},
   "outputs": [
    {
     "name": "stdout",
     "output_type": "stream",
     "text": [
      "Array:\n",
      "[[0.43803504 0.59194215 0.03945434 0.00099161]\n",
      " [0.42579685 0.59491035 0.63687983 0.19730681]\n",
      " [0.76652096 0.83331097 0.00336556 0.78582822]\n",
      " [0.41784511 0.20327675 0.58962803 0.75822157]]\n",
      "Transposed array:\n",
      "[[0.43803504 0.42579685 0.76652096 0.41784511]\n",
      " [0.59194215 0.59491035 0.83331097 0.20327675]\n",
      " [0.03945434 0.63687983 0.00336556 0.58962803]\n",
      " [0.00099161 0.19730681 0.78582822 0.75822157]]\n"
     ]
    }
   ],
   "source": [
    "#Створіть матрицю розміром 4x4, заповніть її випадковими дійсними числами в діапазоні від 0 до 1 та транспонуйте її.\n",
    "arr = np.random.random((4, 4))\n",
    "arr_transposed = arr.T\n",
    "print('Array:')\n",
    "print(arr)\n",
    "print('Transposed array:')\n",
    "print(arr_transposed)"
   ]
  },
  {
   "cell_type": "code",
   "execution_count": 49,
   "id": "bf5fe625",
   "metadata": {},
   "outputs": [
    {
     "name": "stdout",
     "output_type": "stream",
     "text": [
      "Array:\n",
      "[[ 4  7  8  7]\n",
      " [ 2 10  1  5]\n",
      " [ 6  8  2  7]]\n",
      "Vector:\n",
      "[3 6 3 4]\n",
      "Multiple: \n",
      "[106  89 100]\n"
     ]
    }
   ],
   "source": [
    "#Створіть матрицю розміром 3x4 та вектор розміром 4, заповніть їх випадковими цілими числами в діапазоні від 1 до 10 та перемножте матрицю на вектор.\n",
    "arr = np.random.randint(1, 11, (3, 4))\n",
    "vect = np.random.randint(1, 11, 4)\n",
    "mult = np.dot(arr, vect)\n",
    "print('Array:')\n",
    "print(arr)\n",
    "print('Vector:')\n",
    "print(vect)\n",
    "print('Multiple: ')\n",
    "print(mult)"
   ]
  },
  {
   "cell_type": "code",
   "execution_count": 53,
   "id": "11d0bccc",
   "metadata": {},
   "outputs": [
    {
     "name": "stdout",
     "output_type": "stream",
     "text": [
      "Array:\n",
      "[[0.47563681 0.37189411 0.76631741]\n",
      " [0.53775484 0.89956796 0.76160947]]\n",
      "Vector:\n",
      "[0.33261139 0.85320544 0.81510601]\n",
      "Multiple: \n",
      "[1.10013422 1.56717212]\n"
     ]
    }
   ],
   "source": [
    "#Створіть матрицю розміром 2x3 та вектор розміром 3, заповніть їх випадковими дійсними числами в діапазоні від 0 до 1 та перемножте матрицю на вектор.\n",
    "arr = np.random.random((2, 3))\n",
    "vect = np.random.random(3)\n",
    "mult = np.dot(arr, vect)\n",
    "print('Array:')\n",
    "print(arr)\n",
    "print('Vector:')\n",
    "print(vect)\n",
    "print('Multiple: ')\n",
    "print(mult)"
   ]
  },
  {
   "cell_type": "code",
   "execution_count": 54,
   "id": "4e29cb4d",
   "metadata": {},
   "outputs": [
    {
     "name": "stdout",
     "output_type": "stream",
     "text": [
      "Array 1: \n",
      "[[8 5]\n",
      " [8 7]]\n",
      "Array 2: \n",
      "[[4 8]\n",
      " [7 3]]\n",
      "Result: \n",
      "[[32 40]\n",
      " [56 21]]\n"
     ]
    }
   ],
   "source": [
    "#Створіть дві матриці розміром 2x2, заповніть їх випадковими цілими числами в діапазоні від 1 до 10 та виконайте їхнє поелементне множення.\n",
    "arr_1 = np.random.randint(1, 11, (2, 2))\n",
    "arr_2 = np.random.randint(1, 11, (2, 2))\n",
    "mult = arr_1 * arr_2\n",
    "print('Array 1: ')\n",
    "print( arr_1)\n",
    "print('Array 2: ')\n",
    "print(arr_2)\n",
    "print('Result: ')\n",
    "print(mult)"
   ]
  },
  {
   "cell_type": "code",
   "execution_count": 55,
   "id": "dca31ae2",
   "metadata": {},
   "outputs": [
    {
     "name": "stdout",
     "output_type": "stream",
     "text": [
      "Array 1: \n",
      "[[ 2  3]\n",
      " [10  4]]\n",
      "Array 2: \n",
      "[[ 4 10]\n",
      " [ 3  1]]\n",
      "Result: \n",
      "[[ 17  23]\n",
      " [ 52 104]]\n"
     ]
    }
   ],
   "source": [
    "#Створіть дві матриці розміром 2x2, заповніть їх випадковими цілими числами в діапазоні від 1 до 10 та знайдіть їх добуток.\n",
    "arr_1 = np.random.randint(1, 11, (2, 2))\n",
    "arr_2 = np.random.randint(1, 11, (2, 2))\n",
    "mult = np.dot(arr_1, arr_2)\n",
    "print('Array 1: ')\n",
    "print( arr_1)\n",
    "print('Array 2: ')\n",
    "print(arr_2)\n",
    "print('Result: ')\n",
    "print(mult)"
   ]
  },
  {
   "cell_type": "code",
   "execution_count": 57,
   "id": "26449f9e",
   "metadata": {},
   "outputs": [
    {
     "name": "stdout",
     "output_type": "stream",
     "text": [
      "Array:\n",
      "[[33 47 25  8 76]\n",
      " [12 80 21 33 19]\n",
      " [62 46 31 54 73]\n",
      " [45 63 10 38 13]\n",
      " [77 43 35 45 79]]\n",
      "Sum:  1068\n"
     ]
    }
   ],
   "source": [
    "#Створіть матрицю розміром 5x5, заповніть її випадковими цілими числами в діапазоні від 1 до 100 та знайдіть суму елементів матриці.\n",
    "arr = np.random.randint(1, 101, (5, 5))\n",
    "suma = arr.sum()\n",
    "print('Array:')\n",
    "print(arr)\n",
    "print('Sum: ', suma)"
   ]
  },
  {
   "cell_type": "code",
   "execution_count": 58,
   "id": "b17c6c48",
   "metadata": {},
   "outputs": [
    {
     "name": "stdout",
     "output_type": "stream",
     "text": [
      "Array 1: \n",
      "[[ 4  1  8  5]\n",
      " [ 9  3 10  9]\n",
      " [ 1  9 10  8]\n",
      " [ 7  6  3  5]]\n",
      "Array 2: \n",
      "[[ 1 10  4  9]\n",
      " [ 7  9  7  4]\n",
      " [ 8 10  2 10]\n",
      " [ 8  4 10  4]]\n",
      "Difference: \n",
      "[[ 3 -9  4 -4]\n",
      " [ 2 -6  3  5]\n",
      " [-7 -1  8 -2]\n",
      " [-1  2 -7  1]]\n"
     ]
    }
   ],
   "source": [
    "#Створіть дві матриці розміром 4x4, заповніть їх випадковими цілими числами в діапазоні від 1 до 10 та знайдіть їхню різницю.\n",
    "arr_1 = np.random.randint(1, 11, (4, 4))\n",
    "arr_2 = np.random.randint(1, 11, (4, 4))\n",
    "diff = arr_1 - arr_2\n",
    "print('Array 1: ')\n",
    "print( arr_1)\n",
    "print('Array 2: ')\n",
    "print(arr_2)\n",
    "print('Difference: ')\n",
    "print(diff)"
   ]
  },
  {
   "cell_type": "code",
   "execution_count": 61,
   "id": "838b550c",
   "metadata": {},
   "outputs": [
    {
     "name": "stdout",
     "output_type": "stream",
     "text": [
      "Array:\n",
      "[[0.58457005 0.2427178  0.4607334 ]\n",
      " [0.66701273 0.47458854 0.82239369]\n",
      " [0.57710612 0.2150357  0.96456282]]\n",
      "Vector:\n",
      "[[1.28802125]\n",
      " [1.96399496]\n",
      " [1.75670464]]\n"
     ]
    }
   ],
   "source": [
    "#Створіть матрицю розміром 3x3, заповніть її випадковими дійсними числами в діапазоні від 0 до 1 та знайдіть вектор-стовпчик, що містить суму елементів кожного рядка матриці.\n",
    "arr = np.random.random((3, 3))\n",
    "vect = np.sum(arr, axis = 1, keepdims = True)\n",
    "print('Array:')\n",
    "print(arr)\n",
    "print('Vector:')\n",
    "print(vect)"
   ]
  },
  {
   "cell_type": "code",
   "execution_count": 64,
   "id": "09e60e3a",
   "metadata": {},
   "outputs": [
    {
     "name": "stdout",
     "output_type": "stream",
     "text": [
      "Array:\n",
      "[[ 1  9  7  6]\n",
      " [ 5  4  6  4]\n",
      " [ 1  8 10  8]]\n",
      "Result: \n",
      "[[  1  81  49  36]\n",
      " [ 25  16  36  16]\n",
      " [  1  64 100  64]]\n"
     ]
    }
   ],
   "source": [
    "#Створіть матрицю розміром 3x4 з довільними цілими числами і створінь матрицю з квадратами цих чисел.\n",
    "arr = np.random.randint(1, 11, (3, 4))\n",
    "square = np.square(arr)\n",
    "print('Array:')\n",
    "print(arr)\n",
    "print('Result: ')\n",
    "print(square)"
   ]
  },
  {
   "cell_type": "code",
   "execution_count": 67,
   "id": "c97bdc04",
   "metadata": {},
   "outputs": [
    {
     "name": "stdout",
     "output_type": "stream",
     "text": [
      "Vector:  [ 6 17  7 10]\n",
      "Result:  [2.44948974 4.12310563 2.64575131 3.16227766]\n"
     ]
    }
   ],
   "source": [
    "#Створіть вектор розміром 4, заповніть його випадковими цілими числами в діапазоні від 1 до 50 та знайдіть вектор з квадратними коренями цих чисел\n",
    "vect = np.random.randint(1, 51, 4)\n",
    "sqrt = np.sqrt(vect)\n",
    "print('Vector: ', vect)\n",
    "print('Result: ', sqrt )"
   ]
  },
  {
   "cell_type": "code",
   "execution_count": null,
   "id": "b294c914",
   "metadata": {},
   "outputs": [],
   "source": []
  }
 ],
 "metadata": {
  "kernelspec": {
   "display_name": "Python 3 (ipykernel)",
   "language": "python",
   "name": "python3"
  },
  "language_info": {
   "codemirror_mode": {
    "name": "ipython",
    "version": 3
   },
   "file_extension": ".py",
   "mimetype": "text/x-python",
   "name": "python",
   "nbconvert_exporter": "python",
   "pygments_lexer": "ipython3",
   "version": "3.10.11"
  }
 },
 "nbformat": 4,
 "nbformat_minor": 5
}
