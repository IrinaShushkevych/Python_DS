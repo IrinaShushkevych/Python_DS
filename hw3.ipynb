{
 "cells": [
  {
   "cell_type": "code",
   "execution_count": 65,
   "id": "7cb14197",
   "metadata": {},
   "outputs": [],
   "source": [
    "import numpy as np\n",
    "import pandas as pd\n",
    "import matplotlib.pyplot as plt\n",
    "import seaborn as sns\n",
    "%matplotlib inline"
   ]
  },
  {
   "cell_type": "markdown",
   "id": "bfa6c6e8",
   "metadata": {},
   "source": [
    "# Напишіть функцію гіпотези лінійної регресії у векторному вигляді"
   ]
  },
  {
   "cell_type": "code",
   "execution_count": 160,
   "id": "459b779d",
   "metadata": {},
   "outputs": [],
   "source": [
    "def h(X, w):\n",
    "    return np.dot(X, w)"
   ]
  },
  {
   "cell_type": "markdown",
   "id": "2aaca9cc",
   "metadata": {},
   "source": [
    "# Створіть функцію для обчислення функції втрат у векторному вигляді"
   ]
  },
  {
   "cell_type": "code",
   "execution_count": 161,
   "id": "6b578c13",
   "metadata": {},
   "outputs": [],
   "source": [
    "def loss_function(X, y, w):\n",
    "    m = X.shape[0]\n",
    "    return np.square(hypothesis(X, w) - y).sum() / (2*m)"
   ]
  },
  {
   "cell_type": "markdown",
   "id": "20fbc934",
   "metadata": {},
   "source": [
    "# Реалізуйте один крок градієнтного спуску"
   ]
  },
  {
   "cell_type": "code",
   "execution_count": 162,
   "id": "6849c930",
   "metadata": {},
   "outputs": [],
   "source": [
    "def gradient(X, y, w):\n",
    "    m = X.shape[0]\n",
    "    res = h(X, w) - y\n",
    "    return np.dot(X.T, res) / m"
   ]
  },
  {
   "cell_type": "code",
   "execution_count": 148,
   "id": "d4d26cea",
   "metadata": {},
   "outputs": [],
   "source": [
    "def gradient_step(X, y, w, learning_rate = 0.01):\n",
    "    return w - learning_rate * gradient(X, y, w)"
   ]
  },
  {
   "cell_type": "code",
   "execution_count": 351,
   "id": "6df6fa72",
   "metadata": {},
   "outputs": [],
   "source": [
    "def gradient_descent(X, y, w, num_iter=1000, learning_rate = 0.01):\n",
    "    loss = loss_function(X, y, w)\n",
    "    loss_history = [loss]\n",
    "    min_loss = float('inf')\n",
    "    w_best = None\n",
    "    for i in range(num_iter):\n",
    "        w = gradient_step(X, y, w, learning_rate)\n",
    "        loss = loss_function(X, y, w)\n",
    "        loss_history.append(loss)\n",
    "        \n",
    "        if loss < min_loss:\n",
    "            min_loss = loss\n",
    "            w_best = w\n",
    "\n",
    "    return w, w_best, min_loss, loss_history"
   ]
  },
  {
   "cell_type": "markdown",
   "id": "ef4ca6ac",
   "metadata": {},
   "source": [
    "# Знайдіть найкращі параметри w  для датасету прогнозуючу ціну на будинок залежно від площі, кількості ванних кімнат та кількості спалень"
   ]
  },
  {
   "cell_type": "code",
   "execution_count": 318,
   "id": "cf5e08ec",
   "metadata": {},
   "outputs": [],
   "source": [
    "data = pd.read_csv('Housing.csv')"
   ]
  },
  {
   "cell_type": "code",
   "execution_count": 319,
   "id": "3beba336",
   "metadata": {},
   "outputs": [],
   "source": [
    "y = data['price'].values\n",
    "X = data[['area', 'bathrooms', 'bedrooms']].values\n",
    "\n",
    "X = (X - X.mean()) / X.std()\n",
    "y = (y - y.mean()) / y.std()\n",
    "X = np.hstack((np.ones((X.shape[0], 1)) , X))\n",
    "y = y.reshape((y.shape[0], 1))\n",
    "\n",
    "n = X.shape[1]\n",
    "w = np.linspace(0, 0, n).reshape((n, 1))"
   ]
  },
  {
   "cell_type": "code",
   "execution_count": 365,
   "id": "30383ba2",
   "metadata": {},
   "outputs": [
    {
     "name": "stdout",
     "output_type": "stream",
     "text": [
      "The best values w:  [-0.43274166  0.67516563  0.33068178  0.33113861]\n",
      "The best value of loss function:  0.35630279651195323\n"
     ]
    },
    {
     "data": {
      "image/png": "[encoded data removed]",
      "text/plain": [
       "<Figure size 640x480 with 1 Axes>"
      ]
     },
     "metadata": {},
     "output_type": "display_data"
    }
   ],
   "source": [
    "w, w_best, min_loss, loss_history = gradient_descent(X, y, w, 10000, 0.01)\n",
    "print('The best values w: ', w_best.flatten())\n",
    "print('The best value of loss function: ', min_loss)\n",
    "\n",
    "plt.plot(loss_history)\n",
    "plt.title('Loss function')\n",
    "plt.ylabel('Values')\n",
    "plt.xlabel('Iterations')\n",
    "plt.show()"
   ]
  },
  {
   "cell_type": "markdown",
   "id": "f7cfa4df",
   "metadata": {},
   "source": [
    "# Знайдіть ці ж параметри за допомогою аналітичного рішення"
   ]
  },
  {
   "cell_type": "code",
   "execution_count": 366,
   "id": "2e641efb",
   "metadata": {},
   "outputs": [
    {
     "name": "stdout",
     "output_type": "stream",
     "text": [
      "Analitic w:  [1.64622306e+03 5.53491384e-01 2.02545394e+03 5.94491876e+02]\n",
      "Analitic loss function:  0.25645846664706085\n"
     ]
    }
   ],
   "source": [
    "analitic_w = np.dot(np.dot(np.linalg.inv(np.dot(X.T, X)), X.T), y)\n",
    "analitic_loss = loss_function(X, y, analitic_w)\n",
    "print('Analitic w: ', analitic_w.flatten())\n",
    "print('Analitic loss function: ', analitic_loss)"
   ]
  },
  {
   "cell_type": "markdown",
   "id": "1e00a023",
   "metadata": {},
   "source": [
    "# Порівняйте отримані результати"
   ]
  },
  {
   "cell_type": "code",
   "execution_count": 367,
   "id": "4f49bb4e",
   "metadata": {},
   "outputs": [
    {
     "name": "stdout",
     "output_type": "stream",
     "text": [
      "Learning value loss_function:  0.35630279651195323\n",
      "Analitic value loss_function:  0.25645846664706085\n"
     ]
    }
   ],
   "source": [
    "print('Learning value loss_function: ', min_loss)\n",
    "print('Analitic value loss_function: ', analitic_loss)\n"
   ]
  },
  {
   "cell_type": "code",
   "execution_count": null,
   "id": "978a4901",
   "metadata": {},
   "outputs": [],
   "source": []
  }
 ],
 "metadata": {
  "kernelspec": {
   "display_name": "Python 3 (ipykernel)",
   "language": "python",
   "name": "python3"
  },
  "language_info": {
   "codemirror_mode": {
    "name": "ipython",
    "version": 3
   },
   "file_extension": ".py",
   "mimetype": "text/x-python",
   "name": "python",
   "nbconvert_exporter": "python",
   "pygments_lexer": "ipython3",
   "version": "3.10.11"
  }
 },
 "nbformat": 4,
 "nbformat_minor": 5
}
